{
 "cells": [
  {
   "cell_type": "raw",
   "metadata": {
    "vscode": {
     "languageId": "raw"
    }
   },
   "source": [
    "---\n",
    "# NOTE: No syntax highlighting for Quarto YAML headers in Jupyter notebooks in VS Code.\n",
    "draft: true\n",
    "title: \"Cleaning National Transit Data with Ibis\"\n",
    "subtitle: \"Or, Learn Ibis in Several Minutes\"\n",
    "date: \"2024-11-03\"\n",
    "# date-modified: \"\"\n",
    "categories: [Python, Transit]\n",
    "image: \"https://ibis-project.org/logo.svg\"\n",
    "image-alt: \"Logo for the Ibis project: An ibis.\"\n",
    "format: html\n",
    "execute:\n",
    "  echo: true\n",
    "  error: false\n",
    "  message: false\n",
    "  warning: false\n",
    "---"
   ]
  },
  {
   "cell_type": "markdown",
   "metadata": {},
   "source": [
    "Every holiday season, the Federal Transit Administration gifts us a [dataset](https://www.transit.dot.gov/ntd/ntd-data?field_product_type_target_id=All&year=all&combine=breakdowns): How much each transit agency's vehicles broke down during the prior calendar year. It's 2024. We now have 2023 data. Time to prove once again that New Jersey Transit isn't the [worst in the nation](https://glassbro.blog/posts/003_how-not-to-rank-transit/), and therefore everything is fine and you should all stop whining or voting.\n",
    "\n",
    "But this year, I discovered [Ibis](https://ibis-project.org/), yet another Python library for working with data. If you paid attention, you know I've only used R--but exclusively its Tidyverse \"dialect\"--on this blog to date. I've been meaning to write about why I avoid Pandas (a.k.a. Base R for Python), or any other data analysis toolset on the Wall of Shame (base R, PySpark). But unlike those, Ibis is The Way. At long last I'm convinced to migrate away from my beloved Tidyverse + RStudio stack.\n",
    "\n",
    "In this post I'll demonstrate how to clean breakdown data from the FTA's National Transit Database (NTD) using Ibis. I also recommend Visual Studio Code, its [Data Wrangler](https://marketplace.visualstudio.com/items?itemName=ms-toolsai.datawrangler) extension, and Jupyter (only for interactive work), which together provide an RStudio-like experience.\n",
    "\n",
    "While this stack has its hiccups (noted below)—Tidyverse + RStudio still provide the simplest, most ergonomic toolset for exploratory data analysis—Ibis is quite nice and ready for prime time. I bet it'll one day overtake the others.\n",
    "\n",
    "Stay tuned for my 2023 Transit Breakdown Rankings in a later post. Now on with the code."
   ]
  },
  {
   "cell_type": "code",
   "execution_count": 1,
   "metadata": {},
   "outputs": [],
   "source": [
    "import ibis\n",
    "# Unlike R, Ibis doesn't have non-standard evaluation. Instaed we use this, which is\n",
    "# probably better; all these years & I still don't understand closures in R.\n",
    "from ibis import _\n",
    "# This provides a suite of column selection helpers like tidyselect.\n",
    "import ibis.selectors as s\n",
    "\n",
    "# NOTE: By default, Ibis Tables print just the schema. This makes them print a preview\n",
    "# of the data, like Data Frames in R or Pandas do.\n",
    "ibis.options.interactive = True\n",
    "\n",
    "# NOTE: The Polars backend can't do window functions. You'll get an error when calling\n",
    "# `rank()` or `row_number()`.\n",
    "con = ibis.duckdb.connect()"
   ]
  },
  {
   "cell_type": "code",
   "execution_count": 2,
   "metadata": {},
   "outputs": [
    {
     "data": {
      "text/plain": [
       "ibis.Schema {\n",
       "  agency                         string\n",
       "  city                           string\n",
       "  state                          string\n",
       "  ntd_id                         string\n",
       "  organization_type              string\n",
       "  reporter_type                  string\n",
       "  report_year                    int64\n",
       "  uace_code                      int64\n",
       "  uza_name                       string\n",
       "  primary_uza_population         int64\n",
       "  agency_voms                    int64\n",
       "  mode                           string\n",
       "  mode_name                      string\n",
       "  type_of_service                string\n",
       "  mode_voms                      int64\n",
       "  major_mechanical_failures      int64\n",
       "  major_mechanical_failures_1    string\n",
       "  other_mechanical_failures      int64\n",
       "  other_mechanical_failures_1    string\n",
       "  total_mechanical_failures      int64\n",
       "  total_mechanical_failures_1    string\n",
       "  vehicle_passenger_car_miles    int64\n",
       "  vehicle_passenger_car_miles_1  string\n",
       "  vehicle_passenger_car_revenue  int64\n",
       "  vehicle_passenger_car_miles_2  string\n",
       "  train_miles                    int64\n",
       "  train_miles_questionable       string\n",
       "  train_revenue_miles            int64\n",
       "  train_revenue_miles_1          string\n",
       "}"
      ]
     },
     "execution_count": 2,
     "metadata": {},
     "output_type": "execute_result"
    }
   ],
   "source": [
    "# Source: https://www.transit.dot.gov/ntd/data-product/2023-breakdowns\n",
    "# Direct download: https://data.transportation.gov/resource/amkt-4ehs.csv?$query=SELECT%0A%20%20%60agency%60%2C%0A%20%20%60city%60%2C%0A%20%20%60state%60%2C%0A%20%20%60ntd_id%60%2C%0A%20%20%60organization_type%60%2C%0A%20%20%60reporter_type%60%2C%0A%20%20%60report_year%60%2C%0A%20%20%60uace_code%60%2C%0A%20%20%60uza_name%60%2C%0A%20%20%60primary_uza_population%60%2C%0A%20%20%60agency_voms%60%2C%0A%20%20%60mode%60%2C%0A%20%20%60mode_name%60%2C%0A%20%20%60type_of_service%60%2C%0A%20%20%60mode_voms%60%2C%0A%20%20%60major_mechanical_failures%60%2C%0A%20%20%60major_mechanical_failures_1%60%2C%0A%20%20%60other_mechanical_failures%60%2C%0A%20%20%60other_mechanical_failures_1%60%2C%0A%20%20%60total_mechanical_failures%60%2C%0A%20%20%60total_mechanical_failures_1%60%2C%0A%20%20%60vehicle_passenger_car_miles%60%2C%0A%20%20%60vehicle_passenger_car_miles_1%60%2C%0A%20%20%60vehicle_passenger_car_revenue%60%2C%0A%20%20%60vehicle_passenger_car_miles_2%60%2C%0A%20%20%60train_miles%60%2C%0A%20%20%60train_miles_questionable%60%2C%0A%20%20%60train_revenue_miles%60%2C%0A%20%20%60train_revenue_miles_1%60%0AWHERE%20caseless_one_of(%60report_year%60%2C%20%222023%22)\n",
    "# The NTD for 2022 & onward are on the Federal gov't's decent open data website with a\n",
    "# REST API that's actually nice to work with. However, the community-made Python API\n",
    "# client, sodapy, is no longer maintained: https://pypi.org/project/sodapy/\n",
    "# It still works, but it returns all fields as strings.\n",
    "raw = con.read_csv(\"amkt-4ehs.csv\")\n",
    "raw.schema()"
   ]
  },
  {
   "cell_type": "markdown",
   "metadata": {},
   "source": [
    "Remember: Each row is an agency-mode-service type. For example:\n",
    "\n",
    "- Agency: NJ Transit\n",
    "  - Modes:\n",
    "    - Commuter Bus (MB)\n",
    "      - Service types:\n",
    "        - Directly Operated (DO)\n",
    "        - Purchased Transit (PT)\n",
    "    - Commuter Rail (CR)\n",
    "      - Service types:\n",
    "        - DO\n",
    "    - Light Rail (LR)\n",
    "      - Service types:\n",
    "        - DO: River Line, Newark LR (data combined)\n",
    "        - PT: Hudson-Bergen LR\n",
    "- Agency: MTA Metro-North\n",
    "  - ..."
   ]
  },
  {
   "cell_type": "code",
   "execution_count": 3,
   "metadata": {},
   "outputs": [],
   "source": [
    "# So these are the primary keys.\n",
    "keys = [\n",
    "    \"ntd_id\",\n",
    "    \"mode\",\n",
    "    \"type_of_service\",\n",
    "]"
   ]
  },
  {
   "cell_type": "code",
   "execution_count": 4,
   "metadata": {},
   "outputs": [],
   "source": [
    "stg = (\n",
    "    raw.filter(\n",
    "        (\n",
    "            _.mode.isin([\"CR\", \"HR\", \"LR\", \"MB\"]),\n",
    "            _.total_mechanical_failures > 0,\n",
    "            # NOTE: Ibis doesn't return nulls for != predicates, like dplyr or SQL do.\n",
    "            (\n",
    "                (_.total_mechanical_failures_1.isnull())\n",
    "                | (_.total_mechanical_failures_1 != \"Q\")\n",
    "            ),\n",
    "            _.vehicle_passenger_car_miles > 0,\n",
    "            (\n",
    "                (_.vehicle_passenger_car_miles_2.isnull())\n",
    "                | (_.vehicle_passenger_car_miles_2 != \"Q\")\n",
    "            ),\n",
    "        )\n",
    "    )\n",
    "    .group_by(_.mode)\n",
    "    .mutate(\n",
    "        agency = _.agency.re_replace(\".*dba: \", \"\"),\n",
    "        breakdown_rate=_.vehicle_passenger_car_miles / _.total_mechanical_failures\n",
    "    )\n",
    "    # NOTE: In Ibis can't create a column from another column created within the same\n",
    "    # `mutate()` call, like dplyr can.\n",
    "    .mutate(rank=ibis.rank().over(group_by=_.mode, order_by=_.breakdown_rate.desc()))\n",
    "    # NOTE: Ranks start at 0!\n",
    "    .mutate(rank=_.rank + 1)\n",
    "    .order_by(_.mode, _.rank)\n",
    "    .select(\n",
    "        _.mode,\n",
    "        _.rank,\n",
    "        _.agency,\n",
    "        _.ntd_id,\n",
    "        _.city,\n",
    "        _.state,\n",
    "        _.type_of_service,\n",
    "        _.breakdown_rate,\n",
    "        _.vehicle_passenger_car_miles,\n",
    "        _.total_mechanical_failures,\n",
    "    )\n",
    "    # NOTE: Data Wrangler can't view Ibis Tables.\n",
    "    # .to_pandas()\n",
    ")"
   ]
  },
  {
   "cell_type": "code",
   "execution_count": 5,
   "metadata": {},
   "outputs": [],
   "source": [
    "biggest = (\n",
    "    stg.mutate(\n",
    "        row_num=ibis.row_number().over(\n",
    "            group_by=_.mode, order_by=_.vehicle_passenger_car_miles.desc()\n",
    "        )\n",
    "    )\n",
    "    .filter(_.row_num <= 10)\n",
    "    .mutate(\n",
    "        rank_biggest=ibis.rank().over(group_by=_.mode, order_by=_.breakdown_rate.desc())\n",
    "    )\n",
    "    .mutate(rank_biggest=_.rank_biggest + 1)\n",
    "    .order_by(_.mode, _.rank_biggest)\n",
    "    .select(s.all_of(keys), _.rank_biggest)\n",
    "    # .to_pandas()\n",
    ")"
   ]
  },
  {
   "cell_type": "code",
   "execution_count": 6,
   "metadata": {},
   "outputs": [],
   "source": [
    "last_year = (\n",
    "    con.read_csv(\"../breakdowns_2022.csv\")\n",
    "    .rename(\"snake_case\")\n",
    "    .select(\n",
    "        s.all_of(keys),\n",
    "        rank_2022=_.rank,\n",
    "        rank_2022_10_biggest=\"rank,_10_biggest\",\n",
    "    )\n",
    "    # .to_pandas()\n",
    ")"
   ]
  },
  {
   "cell_type": "code",
   "execution_count": 7,
   "metadata": {},
   "outputs": [],
   "source": [
    "clean = (\n",
    "    stg.left_join(biggest, keys)\n",
    "    # NOTE: Ibis results contain \"right\" join keys, unlike dplyr and SQL.\n",
    "    .drop(s.endswith(\"_right\"))\n",
    "    .relocate(_.rank_biggest, after=_.rank)\n",
    "    .left_join(last_year, keys)\n",
    "    .drop(s.endswith(\"_right\"))\n",
    "    .order_by(_.mode, _.rank)\n",
    "    # .to_pandas()\n",
    ")"
   ]
  },
  {
   "cell_type": "markdown",
   "metadata": {},
   "source": [
    "# Checks"
   ]
  },
  {
   "cell_type": "code",
   "execution_count": 8,
   "metadata": {},
   "outputs": [],
   "source": [
    "# No duplicates.\n",
    "# NOTE: Ibis IntegerScalars can't be compared with `==`. You must convert them to NumPy\n",
    "# objects first with `.to_pandas()`.\n",
    "assert clean.distinct(on=keys).count().to_pandas() == clean.count().to_pandas()"
   ]
  },
  {
   "cell_type": "code",
   "execution_count": null,
   "metadata": {},
   "outputs": [],
   "source": [
    "# NOTE: I miss R/RStudio's `View()`.\n",
    "check = (\n",
    "    clean.filter(_.rank_biggest.notnull())\n",
    "    .order_by(_.breakdown_rate.desc())\n",
    "    .to_pandas()\n",
    ")"
   ]
  },
  {
   "cell_type": "markdown",
   "metadata": {},
   "source": [
    "# Output"
   ]
  },
  {
   "cell_type": "code",
   "execution_count": 10,
   "metadata": {},
   "outputs": [],
   "source": [
    "clean.to_csv(\"../breakdowns_2023.csv\")"
   ]
  }
 ],
 "metadata": {
  "kernelspec": {
   "display_name": ".venv",
   "language": "python",
   "name": "python3"
  },
  "language_info": {
   "codemirror_mode": {
    "name": "ipython",
    "version": 3
   },
   "file_extension": ".py",
   "mimetype": "text/x-python",
   "name": "python",
   "nbconvert_exporter": "python",
   "pygments_lexer": "ipython3",
   "version": "3.12.7"
  }
 },
 "nbformat": 4,
 "nbformat_minor": 2
}
